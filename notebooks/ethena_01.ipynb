{
 "cells": [
  {
   "cell_type": "markdown",
   "id": "f5729f5e",
   "metadata": {},
   "source": [
    "## Overview"
   ]
  },
  {
   "cell_type": "code",
   "execution_count": 1,
   "id": "3ef16ad3",
   "metadata": {},
   "outputs": [],
   "source": [
    "import json, warnings, os\n",
    "from pathlib import Path\n",
    "\n",
    "warnings.filterwarnings('ignore')\n",
    "\n",
    "if Path.cwd().name == \"notebooks\":\n",
    "    rootdir = Path.cwd().parent\n",
    "else:\n",
    "    rootdir = Path.cwd()\n",
    "\n",
    "import pandas as pd\n",
    "import plotly.express as px\n",
    "from plotly import graph_objects as go\n",
    "\n",
    "from stables.utils.postgres import get_sqlalchemy_engine\n",
    "from stables.config import local_pg_config, remote_pg_config\n",
    "engine = get_sqlalchemy_engine(local_pg_config)"
   ]
  },
  {
   "cell_type": "code",
   "execution_count": 3,
   "id": "958d377e",
   "metadata": {},
   "outputs": [
    {
     "data": {
      "text/html": [
       "<div>\n",
       "<style scoped>\n",
       "    .dataframe tbody tr th:only-of-type {\n",
       "        vertical-align: middle;\n",
       "    }\n",
       "\n",
       "    .dataframe tbody tr th {\n",
       "        vertical-align: top;\n",
       "    }\n",
       "\n",
       "    .dataframe thead th {\n",
       "        text-align: right;\n",
       "    }\n",
       "</style>\n",
       "<table border=\"1\" class=\"dataframe\">\n",
       "  <thead>\n",
       "    <tr style=\"text-align: right;\">\n",
       "      <th></th>\n",
       "      <th>network</th>\n",
       "      <th>contract_address</th>\n",
       "      <th>symbol</th>\n",
       "      <th>decimals</th>\n",
       "      <th>confidence</th>\n",
       "      <th>price</th>\n",
       "      <th>time</th>\n",
       "      <th>_dlt_load_id</th>\n",
       "      <th>_dlt_id</th>\n",
       "    </tr>\n",
       "  </thead>\n",
       "  <tbody>\n",
       "    <tr>\n",
       "      <th>0</th>\n",
       "      <td>ethereum</td>\n",
       "      <td>0x57e114B691Db790C35207b2e685D4A43181e6061</td>\n",
       "      <td>ENA</td>\n",
       "      <td>18</td>\n",
       "      <td>0.99</td>\n",
       "      <td>0.646607</td>\n",
       "      <td>2024-04-02 13:46:59+00:00</td>\n",
       "      <td>1753194809.647163</td>\n",
       "      <td>OYo/ZNnpLd9yTw</td>\n",
       "    </tr>\n",
       "    <tr>\n",
       "      <th>1</th>\n",
       "      <td>ethereum</td>\n",
       "      <td>0x57e114B691Db790C35207b2e685D4A43181e6061</td>\n",
       "      <td>ENA</td>\n",
       "      <td>18</td>\n",
       "      <td>0.99</td>\n",
       "      <td>0.960867</td>\n",
       "      <td>2024-04-03 13:46:20+00:00</td>\n",
       "      <td>1753194809.647163</td>\n",
       "      <td>VAX7ciHhos9I2A</td>\n",
       "    </tr>\n",
       "    <tr>\n",
       "      <th>2</th>\n",
       "      <td>ethereum</td>\n",
       "      <td>0x57e114B691Db790C35207b2e685D4A43181e6061</td>\n",
       "      <td>ENA</td>\n",
       "      <td>18</td>\n",
       "      <td>0.99</td>\n",
       "      <td>1.095000</td>\n",
       "      <td>2024-04-04 13:46:32+00:00</td>\n",
       "      <td>1753194809.647163</td>\n",
       "      <td>l288ahrvK2HgZg</td>\n",
       "    </tr>\n",
       "    <tr>\n",
       "      <th>3</th>\n",
       "      <td>ethereum</td>\n",
       "      <td>0x57e114B691Db790C35207b2e685D4A43181e6061</td>\n",
       "      <td>ENA</td>\n",
       "      <td>18</td>\n",
       "      <td>0.99</td>\n",
       "      <td>0.943694</td>\n",
       "      <td>2024-04-05 13:45:49+00:00</td>\n",
       "      <td>1753194809.647163</td>\n",
       "      <td>V2JcoQCAD/RpZQ</td>\n",
       "    </tr>\n",
       "    <tr>\n",
       "      <th>4</th>\n",
       "      <td>ethereum</td>\n",
       "      <td>0x57e114B691Db790C35207b2e685D4A43181e6061</td>\n",
       "      <td>ENA</td>\n",
       "      <td>18</td>\n",
       "      <td>0.99</td>\n",
       "      <td>1.073057</td>\n",
       "      <td>2024-04-06 13:49:36+00:00</td>\n",
       "      <td>1753194809.647163</td>\n",
       "      <td>UX4zcTq+6NUU4A</td>\n",
       "    </tr>\n",
       "    <tr>\n",
       "      <th>...</th>\n",
       "      <td>...</td>\n",
       "      <td>...</td>\n",
       "      <td>...</td>\n",
       "      <td>...</td>\n",
       "      <td>...</td>\n",
       "      <td>...</td>\n",
       "      <td>...</td>\n",
       "      <td>...</td>\n",
       "      <td>...</td>\n",
       "    </tr>\n",
       "    <tr>\n",
       "      <th>472</th>\n",
       "      <td>ethereum</td>\n",
       "      <td>0x57e114B691Db790C35207b2e685D4A43181e6061</td>\n",
       "      <td>ENA</td>\n",
       "      <td>18</td>\n",
       "      <td>0.99</td>\n",
       "      <td>0.405831</td>\n",
       "      <td>2025-07-18 13:47:48+00:00</td>\n",
       "      <td>1753194809.647163</td>\n",
       "      <td>n9eFSCE+ejffxQ</td>\n",
       "    </tr>\n",
       "    <tr>\n",
       "      <th>473</th>\n",
       "      <td>ethereum</td>\n",
       "      <td>0x57e114B691Db790C35207b2e685D4A43181e6061</td>\n",
       "      <td>ENA</td>\n",
       "      <td>18</td>\n",
       "      <td>0.99</td>\n",
       "      <td>0.402120</td>\n",
       "      <td>2025-07-19 13:47:54+00:00</td>\n",
       "      <td>1753194809.647163</td>\n",
       "      <td>AIKtqvMglUS7Rg</td>\n",
       "    </tr>\n",
       "    <tr>\n",
       "      <th>474</th>\n",
       "      <td>ethereum</td>\n",
       "      <td>0x57e114B691Db790C35207b2e685D4A43181e6061</td>\n",
       "      <td>ENA</td>\n",
       "      <td>18</td>\n",
       "      <td>0.99</td>\n",
       "      <td>0.488556</td>\n",
       "      <td>2025-07-20 13:47:32+00:00</td>\n",
       "      <td>1753194809.647163</td>\n",
       "      <td>N1qdXCcxpjUXdw</td>\n",
       "    </tr>\n",
       "    <tr>\n",
       "      <th>475</th>\n",
       "      <td>ethereum</td>\n",
       "      <td>0x57e114B691Db790C35207b2e685D4A43181e6061</td>\n",
       "      <td>ENA</td>\n",
       "      <td>18</td>\n",
       "      <td>0.99</td>\n",
       "      <td>0.519199</td>\n",
       "      <td>2025-07-21 13:48:03+00:00</td>\n",
       "      <td>1753194809.647163</td>\n",
       "      <td>HXj+fQyQ0nhL4g</td>\n",
       "    </tr>\n",
       "    <tr>\n",
       "      <th>476</th>\n",
       "      <td>ethereum</td>\n",
       "      <td>0x57e114B691Db790C35207b2e685D4A43181e6061</td>\n",
       "      <td>ENA</td>\n",
       "      <td>18</td>\n",
       "      <td>0.99</td>\n",
       "      <td>0.500582</td>\n",
       "      <td>2025-07-22 13:46:56+00:00</td>\n",
       "      <td>1753194809.647163</td>\n",
       "      <td>guMoo0Gjg0BTsw</td>\n",
       "    </tr>\n",
       "  </tbody>\n",
       "</table>\n",
       "<p>477 rows × 9 columns</p>\n",
       "</div>"
      ],
      "text/plain": [
       "      network                            contract_address symbol  decimals  \\\n",
       "0    ethereum  0x57e114B691Db790C35207b2e685D4A43181e6061    ENA        18   \n",
       "1    ethereum  0x57e114B691Db790C35207b2e685D4A43181e6061    ENA        18   \n",
       "2    ethereum  0x57e114B691Db790C35207b2e685D4A43181e6061    ENA        18   \n",
       "3    ethereum  0x57e114B691Db790C35207b2e685D4A43181e6061    ENA        18   \n",
       "4    ethereum  0x57e114B691Db790C35207b2e685D4A43181e6061    ENA        18   \n",
       "..        ...                                         ...    ...       ...   \n",
       "472  ethereum  0x57e114B691Db790C35207b2e685D4A43181e6061    ENA        18   \n",
       "473  ethereum  0x57e114B691Db790C35207b2e685D4A43181e6061    ENA        18   \n",
       "474  ethereum  0x57e114B691Db790C35207b2e685D4A43181e6061    ENA        18   \n",
       "475  ethereum  0x57e114B691Db790C35207b2e685D4A43181e6061    ENA        18   \n",
       "476  ethereum  0x57e114B691Db790C35207b2e685D4A43181e6061    ENA        18   \n",
       "\n",
       "     confidence     price                      time       _dlt_load_id  \\\n",
       "0          0.99  0.646607 2024-04-02 13:46:59+00:00  1753194809.647163   \n",
       "1          0.99  0.960867 2024-04-03 13:46:20+00:00  1753194809.647163   \n",
       "2          0.99  1.095000 2024-04-04 13:46:32+00:00  1753194809.647163   \n",
       "3          0.99  0.943694 2024-04-05 13:45:49+00:00  1753194809.647163   \n",
       "4          0.99  1.073057 2024-04-06 13:49:36+00:00  1753194809.647163   \n",
       "..          ...       ...                       ...                ...   \n",
       "472        0.99  0.405831 2025-07-18 13:47:48+00:00  1753194809.647163   \n",
       "473        0.99  0.402120 2025-07-19 13:47:54+00:00  1753194809.647163   \n",
       "474        0.99  0.488556 2025-07-20 13:47:32+00:00  1753194809.647163   \n",
       "475        0.99  0.519199 2025-07-21 13:48:03+00:00  1753194809.647163   \n",
       "476        0.99  0.500582 2025-07-22 13:46:56+00:00  1753194809.647163   \n",
       "\n",
       "            _dlt_id  \n",
       "0    OYo/ZNnpLd9yTw  \n",
       "1    VAX7ciHhos9I2A  \n",
       "2    l288ahrvK2HgZg  \n",
       "3    V2JcoQCAD/RpZQ  \n",
       "4    UX4zcTq+6NUU4A  \n",
       "..              ...  \n",
       "472  n9eFSCE+ejffxQ  \n",
       "473  AIKtqvMglUS7Rg  \n",
       "474  N1qdXCcxpjUXdw  \n",
       "475  HXj+fQyQ0nhL4g  \n",
       "476  guMoo0Gjg0BTsw  \n",
       "\n",
       "[477 rows x 9 columns]"
      ]
     },
     "execution_count": 3,
     "metadata": {},
     "output_type": "execute_result"
    }
   ],
   "source": [
    "query = \"\"\"\n",
    "SELECT * FROM llama.token_price\n",
    "\"\"\"\n",
    "df= pd.read_sql(query, engine)\n",
    "# df_ethena['date'] = pd.to_datetime(df_ethena['date'], unit='s')\n",
    "# df[df['chain']==\"Ethereum\"]\n",
    "df.time.value_counts()\n",
    "df"
   ]
  },
  {
   "cell_type": "markdown",
   "id": "b7a1a29b",
   "metadata": {},
   "source": [
    "### 1. TVL"
   ]
  },
  {
   "cell_type": "code",
   "execution_count": null,
   "id": "ae495081",
   "metadata": {},
   "outputs": [],
   "source": [
    "df = df_ethena.copy()\n",
    "l = df['date'].max()\n",
    "\n",
    "tvl_usde = df[\n",
    "    (df['date'] == l) & (df['id'] == '146')\n",
    "]['circulating'].sum()\n",
    "\n",
    "tvl_usdtb = df[\n",
    "    (df['date'] == l) & (df['id'] == '221')\n",
    "]['circulating'].sum()\n",
    "\n",
    "tvl = tvl_usde + tvl_usdtb\n",
    "\n",
    "\n",
    "n_chains_usde = df[\n",
    "    (df['date'] == l) & (df['id'] == '146')\n",
    "]['chain'].nunique()\n",
    "n_chains_usdtb = df[\n",
    "    (df['date'] == l) & (df['id'] == '221')\n",
    "]['chain'].nunique()"
   ]
  },
  {
   "cell_type": "code",
   "execution_count": null,
   "id": "d09e834d",
   "metadata": {},
   "outputs": [],
   "source": [
    "\n",
    "\n",
    "df = df_ethena.groupby(['date', 'symbol']).agg(\n",
    "    tvl=('circulating', 'sum')\n",
    ").reset_index()\n",
    "fig = px.bar(df, x=\"date\", y=\"tvl\", color=\"symbol\", title=f\"Current TVL: {tvl/1e9:.2f}B, USDe: {tvl_usde/1e9:.2f}B, USDTB: {tvl_usdtb/1e9:.2f}B\",labels=\"\")\n",
    "fig.update_layout(\n",
    "    xaxis_title=\"Date\",\n",
    "    yaxis_title=\"TVL (USD)\",\n",
    "    legend_title_text=\"Stablecoin\"\n",
    ")\n",
    "fig.show()"
   ]
  },
  {
   "cell_type": "markdown",
   "id": "b61f97a3",
   "metadata": {},
   "source": [
    "### 2. TVL by chains"
   ]
  },
  {
   "cell_type": "code",
   "execution_count": null,
   "id": "0bd57251",
   "metadata": {},
   "outputs": [],
   "source": [
    "df = df_ethena.copy()\n",
    "df = df.groupby(['date', 'chain']).agg(\n",
    "    tvl=('circulating', 'sum')\n",
    ").reset_index()\n",
    "fig = px.bar(df, x=\"date\", y=\"tvl\", color=\"chain\", title=\"Ethena TVL by chains\")\n",
    "fig.update_layout(\n",
    "    xaxis_title=\"Date\",\n",
    "    yaxis_title=\"TVL (USD)\",\n",
    "    legend_title_text=\"Chain\"\n",
    ")\n",
    "fig.show()"
   ]
  },
  {
   "cell_type": "markdown",
   "id": "496ccaf1",
   "metadata": {},
   "source": [
    "### 3. USDe staking percentage"
   ]
  },
  {
   "cell_type": "code",
   "execution_count": null,
   "id": "0c0826fc",
   "metadata": {},
   "outputs": [],
   "source": [
    "df1 = df_ethena[df_ethena['id'] == '146'].groupby(['date']).agg(tvl=('circulating', 'sum')).reset_index()\n",
    "\n",
    "query = \"\"\"\n",
    "SELECT * FROM ethena_raw.susde_pool\n",
    "\"\"\"\n",
    "df2 = pd.read_sql(query, engine)\n",
    "df2['date'] = df2['timestamp'].dt.date\n",
    "df2['date'] = pd.to_datetime(df2['date'])"
   ]
  },
  {
   "cell_type": "code",
   "execution_count": null,
   "id": "86d3f365",
   "metadata": {},
   "outputs": [],
   "source": [
    "df = df1.merge(df2[['date', 'tvl_usd']], on='date', how='outer')#, suffixes=('_usde', '_sus)\n",
    "df.rename(columns={'tvl_usd': 'susde', 'tvl': 'usde'}, inplace=True)\n",
    "df['staking_perc'] = (df['susde'] / df['usde']) *100\n",
    "current_staking_perc = df[df['date'] == df['date'].max()]['staking_perc'].values[0]"
   ]
  },
  {
   "cell_type": "code",
   "execution_count": null,
   "id": "88bfc730",
   "metadata": {},
   "outputs": [],
   "source": [
    "fig = go.Figure()\n",
    "# fig.add_trace(go.Scatter(x=df2['date'], y=df2['tvl_usd'], mode='lines', name='sUSDe'))\n",
    "fig.add_trace(go.Bar(x=df1['date'], y=df1['tvl'], name='USDe', opacity=0.5))\n",
    "\n",
    "fig.add_trace(go.Scatter(\n",
    "      x=df['date'],\n",
    "      y=df['staking_perc'],\n",
    "      mode='lines',\n",
    "      name='Staking %',\n",
    "      yaxis='y2'\n",
    "  ))\n",
    "fig.update_layout(\n",
    "      yaxis2=dict(\n",
    "          title=\"%\",\n",
    "          overlaying='y',\n",
    "          side='right'\n",
    "      ),\n",
    "    title=\"Current USDe TVL: {:.2f}B, staking {:.2f}%\".format(tvl_usde/1e9, current_staking_perc),\n",
    "    xaxis_title=\"Date\",\n",
    "    yaxis_title=\"TVL (USD)\",\n",
    "    # legend_title_text=\"Stablecoin\"\n",
    "  )\n"
   ]
  },
  {
   "cell_type": "markdown",
   "id": "a1e21d46",
   "metadata": {},
   "source": [
    "### 4. Revenue"
   ]
  },
  {
   "cell_type": "code",
   "execution_count": 2,
   "id": "11d4ae16",
   "metadata": {},
   "outputs": [
    {
     "data": {
      "text/html": [
       "<div>\n",
       "<style scoped>\n",
       "    .dataframe tbody tr th:only-of-type {\n",
       "        vertical-align: middle;\n",
       "    }\n",
       "\n",
       "    .dataframe tbody tr th {\n",
       "        vertical-align: top;\n",
       "    }\n",
       "\n",
       "    .dataframe thead th {\n",
       "        text-align: right;\n",
       "    }\n",
       "</style>\n",
       "<table border=\"1\" class=\"dataframe\">\n",
       "  <thead>\n",
       "    <tr style=\"text-align: right;\">\n",
       "      <th></th>\n",
       "      <th>timestamp</th>\n",
       "      <th>revenue</th>\n",
       "      <th>protocol</th>\n",
       "      <th>_dlt_load_id</th>\n",
       "      <th>_dlt_id</th>\n",
       "      <th>chain</th>\n",
       "      <th>sub_protocol</th>\n",
       "      <th>date</th>\n",
       "      <th>revenue_cumulative</th>\n",
       "    </tr>\n",
       "  </thead>\n",
       "  <tbody>\n",
       "    <tr>\n",
       "      <th>0</th>\n",
       "      <td>1700870400</td>\n",
       "      <td>0</td>\n",
       "      <td>ethena</td>\n",
       "      <td>1753107066.1861103</td>\n",
       "      <td>hq9hVFxJP6szDQ</td>\n",
       "      <td>Ethereum</td>\n",
       "      <td>Ethena USDe</td>\n",
       "      <td>2023-11-25</td>\n",
       "      <td>0</td>\n",
       "    </tr>\n",
       "    <tr>\n",
       "      <th>1</th>\n",
       "      <td>1700956800</td>\n",
       "      <td>0</td>\n",
       "      <td>ethena</td>\n",
       "      <td>1753107066.1861103</td>\n",
       "      <td>6CqQJnPnRQPk8A</td>\n",
       "      <td>Ethereum</td>\n",
       "      <td>Ethena USDe</td>\n",
       "      <td>2023-11-26</td>\n",
       "      <td>0</td>\n",
       "    </tr>\n",
       "    <tr>\n",
       "      <th>2</th>\n",
       "      <td>1701043200</td>\n",
       "      <td>0</td>\n",
       "      <td>ethena</td>\n",
       "      <td>1753107066.1861103</td>\n",
       "      <td>Y8kah/Y+XdqnCQ</td>\n",
       "      <td>Ethereum</td>\n",
       "      <td>Ethena USDe</td>\n",
       "      <td>2023-11-27</td>\n",
       "      <td>0</td>\n",
       "    </tr>\n",
       "    <tr>\n",
       "      <th>3</th>\n",
       "      <td>1701129600</td>\n",
       "      <td>103</td>\n",
       "      <td>ethena</td>\n",
       "      <td>1753107066.1861103</td>\n",
       "      <td>1Sl2GrcPSfPbgw</td>\n",
       "      <td>Ethereum</td>\n",
       "      <td>Ethena USDe</td>\n",
       "      <td>2023-11-28</td>\n",
       "      <td>103</td>\n",
       "    </tr>\n",
       "    <tr>\n",
       "      <th>4</th>\n",
       "      <td>1701216000</td>\n",
       "      <td>3</td>\n",
       "      <td>ethena</td>\n",
       "      <td>1753107066.1861103</td>\n",
       "      <td>Oi0EnSGyfgghdw</td>\n",
       "      <td>Ethereum</td>\n",
       "      <td>Ethena USDe</td>\n",
       "      <td>2023-11-29</td>\n",
       "      <td>106</td>\n",
       "    </tr>\n",
       "    <tr>\n",
       "      <th>...</th>\n",
       "      <td>...</td>\n",
       "      <td>...</td>\n",
       "      <td>...</td>\n",
       "      <td>...</td>\n",
       "      <td>...</td>\n",
       "      <td>...</td>\n",
       "      <td>...</td>\n",
       "      <td>...</td>\n",
       "      <td>...</td>\n",
       "    </tr>\n",
       "    <tr>\n",
       "      <th>594</th>\n",
       "      <td>1752624000</td>\n",
       "      <td>1661</td>\n",
       "      <td>ethena</td>\n",
       "      <td>1753107066.1861103</td>\n",
       "      <td>gRonI5cPkRlIYQ</td>\n",
       "      <td>Ethereum</td>\n",
       "      <td>Ethena USDe</td>\n",
       "      <td>2025-07-16</td>\n",
       "      <td>402701110</td>\n",
       "    </tr>\n",
       "    <tr>\n",
       "      <th>595</th>\n",
       "      <td>1752710400</td>\n",
       "      <td>7601364</td>\n",
       "      <td>ethena</td>\n",
       "      <td>1753107066.1861103</td>\n",
       "      <td>ck5+U7QV4YFz0Q</td>\n",
       "      <td>Ethereum</td>\n",
       "      <td>Ethena USDe</td>\n",
       "      <td>2025-07-17</td>\n",
       "      <td>410302474</td>\n",
       "    </tr>\n",
       "    <tr>\n",
       "      <th>596</th>\n",
       "      <td>1752796800</td>\n",
       "      <td>145676</td>\n",
       "      <td>ethena</td>\n",
       "      <td>1753107066.1861103</td>\n",
       "      <td>JVS2kxYOIg1s/w</td>\n",
       "      <td>Ethereum</td>\n",
       "      <td>Ethena USDe</td>\n",
       "      <td>2025-07-18</td>\n",
       "      <td>410448150</td>\n",
       "    </tr>\n",
       "    <tr>\n",
       "      <th>597</th>\n",
       "      <td>1752883200</td>\n",
       "      <td>165763</td>\n",
       "      <td>ethena</td>\n",
       "      <td>1753107066.1861103</td>\n",
       "      <td>wXu7PtLRGLokng</td>\n",
       "      <td>Ethereum</td>\n",
       "      <td>Ethena USDe</td>\n",
       "      <td>2025-07-19</td>\n",
       "      <td>410613913</td>\n",
       "    </tr>\n",
       "    <tr>\n",
       "      <th>598</th>\n",
       "      <td>1752969600</td>\n",
       "      <td>122590</td>\n",
       "      <td>ethena</td>\n",
       "      <td>1753107066.1861103</td>\n",
       "      <td>1T/M9BLciD6Feg</td>\n",
       "      <td>Ethereum</td>\n",
       "      <td>Ethena USDe</td>\n",
       "      <td>2025-07-20</td>\n",
       "      <td>410736503</td>\n",
       "    </tr>\n",
       "  </tbody>\n",
       "</table>\n",
       "<p>599 rows × 9 columns</p>\n",
       "</div>"
      ],
      "text/plain": [
       "      timestamp  revenue protocol        _dlt_load_id         _dlt_id  \\\n",
       "0    1700870400        0   ethena  1753107066.1861103  hq9hVFxJP6szDQ   \n",
       "1    1700956800        0   ethena  1753107066.1861103  6CqQJnPnRQPk8A   \n",
       "2    1701043200        0   ethena  1753107066.1861103  Y8kah/Y+XdqnCQ   \n",
       "3    1701129600      103   ethena  1753107066.1861103  1Sl2GrcPSfPbgw   \n",
       "4    1701216000        3   ethena  1753107066.1861103  Oi0EnSGyfgghdw   \n",
       "..          ...      ...      ...                 ...             ...   \n",
       "594  1752624000     1661   ethena  1753107066.1861103  gRonI5cPkRlIYQ   \n",
       "595  1752710400  7601364   ethena  1753107066.1861103  ck5+U7QV4YFz0Q   \n",
       "596  1752796800   145676   ethena  1753107066.1861103  JVS2kxYOIg1s/w   \n",
       "597  1752883200   165763   ethena  1753107066.1861103  wXu7PtLRGLokng   \n",
       "598  1752969600   122590   ethena  1753107066.1861103  1T/M9BLciD6Feg   \n",
       "\n",
       "        chain sub_protocol        date  revenue_cumulative  \n",
       "0    Ethereum  Ethena USDe  2023-11-25                   0  \n",
       "1    Ethereum  Ethena USDe  2023-11-26                   0  \n",
       "2    Ethereum  Ethena USDe  2023-11-27                   0  \n",
       "3    Ethereum  Ethena USDe  2023-11-28                 103  \n",
       "4    Ethereum  Ethena USDe  2023-11-29                 106  \n",
       "..        ...          ...         ...                 ...  \n",
       "594  Ethereum  Ethena USDe  2025-07-16           402701110  \n",
       "595  Ethereum  Ethena USDe  2025-07-17           410302474  \n",
       "596  Ethereum  Ethena USDe  2025-07-18           410448150  \n",
       "597  Ethereum  Ethena USDe  2025-07-19           410613913  \n",
       "598  Ethereum  Ethena USDe  2025-07-20           410736503  \n",
       "\n",
       "[599 rows x 9 columns]"
      ]
     },
     "execution_count": 2,
     "metadata": {},
     "output_type": "execute_result"
    }
   ],
   "source": [
    "query = \"\"\"\n",
    "SELECT * FROM ethena_raw.protocol_revenue_ethena\n",
    "\"\"\"\n",
    "df = pd.read_sql(query, engine)\n",
    "# df['date'] = df['timestamp'].dt.date\n",
    "df['date'] = pd.to_datetime(df['timestamp'], unit='s').dt.date\n",
    "df['revenue_cumulative'] = df['revenue'].cumsum()\n",
    "df"
   ]
  },
  {
   "cell_type": "code",
   "execution_count": 3,
   "id": "06206df6",
   "metadata": {},
   "outputs": [
    {
     "data": {
      "application/vnd.plotly.v1+json": {
       "config": {
        "plotlyServerURL": "https://plot.ly"
       },
       "data": [
        {
         "hovertemplate": "protocol=ethena<br>date=%{x}<br>revenue_cumulative=%{y}<extra></extra>",
         "legendgroup": "ethena",
         "line": {
          "color": "#636efa",
          "dash": "solid"
         },
         "marker": {
          "symbol": "circle"
         },
         "mode": "lines",
         "name": "ethena",
         "orientation": "v",
         "showlegend": true,
         "type": "scatter",
         "x": [
          "2023-11-25",
          "2023-11-26",
          "2023-11-27",
          "2023-11-28",
          "2023-11-29",
          "2023-11-30",
          "2023-12-01",
          "2023-12-02",
          "2023-12-03",
          "2023-12-04",
          "2023-12-05",
          "2023-12-06",
          "2023-12-07",
          "2023-12-08",
          "2023-12-09",
          "2023-12-10",
          "2023-12-11",
          "2023-12-12",
          "2023-12-13",
          "2023-12-14",
          "2023-12-15",
          "2023-12-16",
          "2023-12-17",
          "2023-12-18",
          "2023-12-19",
          "2023-12-20",
          "2023-12-21",
          "2023-12-22",
          "2023-12-23",
          "2023-12-24",
          "2023-12-25",
          "2023-12-26",
          "2023-12-27",
          "2023-12-28",
          "2023-12-29",
          "2023-12-30",
          "2023-12-31",
          "2024-01-01",
          "2024-01-02",
          "2024-01-03",
          "2024-01-04",
          "2024-01-05",
          "2024-01-06",
          "2024-01-07",
          "2024-01-08",
          "2024-01-09",
          "2024-01-10",
          "2024-01-11",
          "2024-01-12",
          "2024-01-13",
          "2024-01-14",
          "2024-01-15",
          "2024-01-16",
          "2024-01-17",
          "2024-01-18",
          "2024-01-19",
          "2024-01-20",
          "2024-01-21",
          "2024-01-22",
          "2024-01-23",
          "2024-01-24",
          "2024-01-25",
          "2024-01-26",
          "2024-01-27",
          "2024-01-28",
          "2024-01-29",
          "2024-01-30",
          "2024-01-31",
          "2024-02-01",
          "2024-02-02",
          "2024-02-03",
          "2024-02-04",
          "2024-02-05",
          "2024-02-06",
          "2024-02-07",
          "2024-02-08",
          "2024-02-09",
          "2024-02-10",
          "2024-02-11",
          "2024-02-12",
          "2024-02-13",
          "2024-02-14",
          "2024-02-15",
          "2024-02-16",
          "2024-02-17",
          "2024-02-18",
          "2024-02-19",
          "2024-02-20",
          "2024-02-21",
          "2024-02-22",
          "2024-02-23",
          "2024-02-24",
          "2024-02-25",
          "2024-02-26",
          "2024-02-27",
          "2024-02-28",
          "2024-02-29",
          "2024-03-01",
          "2024-03-02",
          "2024-03-03",
          "2024-03-04",
          "2024-03-05",
          "2024-03-06",
          "2024-03-07",
          "2024-03-08",
          "2024-03-09",
          "2024-03-10",
          "2024-03-11",
          "2024-03-12",
          "2024-03-13",
          "2024-03-14",
          "2024-03-15",
          "2024-03-16",
          "2024-03-17",
          "2024-03-18",
          "2024-03-19",
          "2024-03-20",
          "2024-03-21",
          "2024-03-22",
          "2024-03-23",
          "2024-03-24",
          "2024-03-25",
          "2024-03-26",
          "2024-03-27",
          "2024-03-28",
          "2024-03-29",
          "2024-03-30",
          "2024-03-31",
          "2024-04-01",
          "2024-04-02",
          "2024-04-03",
          "2024-04-04",
          "2024-04-05",
          "2024-04-06",
          "2024-04-07",
          "2024-04-08",
          "2024-04-09",
          "2024-04-10",
          "2024-04-11",
          "2024-04-12",
          "2024-04-13",
          "2024-04-14",
          "2024-04-15",
          "2024-04-16",
          "2024-04-17",
          "2024-04-18",
          "2024-04-19",
          "2024-04-20",
          "2024-04-21",
          "2024-04-22",
          "2024-04-23",
          "2024-04-24",
          "2024-04-25",
          "2024-04-26",
          "2024-04-27",
          "2024-04-28",
          "2024-04-29",
          "2024-04-30",
          "2024-05-01",
          "2024-05-02",
          "2024-05-03",
          "2024-05-04",
          "2024-05-05",
          "2024-05-06",
          "2024-05-07",
          "2024-05-08",
          "2024-05-09",
          "2024-05-10",
          "2024-05-11",
          "2024-05-12",
          "2024-05-13",
          "2024-05-14",
          "2024-05-15",
          "2024-05-16",
          "2024-05-17",
          "2024-05-18",
          "2024-05-19",
          "2024-05-20",
          "2024-05-21",
          "2024-05-22",
          "2024-05-23",
          "2024-05-24",
          "2024-05-25",
          "2024-05-26",
          "2024-05-27",
          "2024-05-28",
          "2024-05-29",
          "2024-05-30",
          "2024-05-31",
          "2024-06-01",
          "2024-06-02",
          "2024-06-03",
          "2024-06-04",
          "2024-06-05",
          "2024-06-06",
          "2024-06-07",
          "2024-06-08",
          "2024-06-09",
          "2024-06-10",
          "2024-06-11",
          "2024-06-12",
          "2024-06-13",
          "2024-06-14",
          "2024-06-15",
          "2024-06-16",
          "2024-06-17",
          "2024-06-18",
          "2024-06-19",
          "2024-06-20",
          "2024-06-21",
          "2024-06-22",
          "2024-06-23",
          "2024-06-24",
          "2024-06-25",
          "2024-06-26",
          "2024-06-27",
          "2024-06-28",
          "2024-06-29",
          "2024-06-30",
          "2024-07-01",
          "2024-07-02",
          "2024-07-03",
          "2024-07-04",
          "2024-07-05",
          "2024-07-06",
          "2024-07-07",
          "2024-07-08",
          "2024-07-09",
          "2024-07-10",
          "2024-07-11",
          "2024-07-12",
          "2024-07-13",
          "2024-07-14",
          "2024-07-15",
          "2024-07-16",
          "2024-07-17",
          "2024-07-18",
          "2024-07-19",
          "2024-07-20",
          "2024-07-21",
          "2024-07-22",
          "2024-07-23",
          "2024-07-24",
          "2024-07-25",
          "2024-07-26",
          "2024-07-27",
          "2024-07-28",
          "2024-07-29",
          "2024-07-30",
          "2024-07-31",
          "2024-08-01",
          "2024-08-02",
          "2024-08-03",
          "2024-08-04",
          "2024-08-05",
          "2024-08-06",
          "2024-08-07",
          "2024-08-08",
          "2024-08-09",
          "2024-08-10",
          "2024-08-11",
          "2024-08-12",
          "2024-08-13",
          "2024-08-14",
          "2024-08-15",
          "2024-08-16",
          "2024-08-17",
          "2024-08-18",
          "2024-08-19",
          "2024-08-20",
          "2024-08-21",
          "2024-08-22",
          "2024-08-23",
          "2024-08-24",
          "2024-08-25",
          "2024-08-26",
          "2024-08-27",
          "2024-08-28",
          "2024-08-29",
          "2024-08-30",
          "2024-08-31",
          "2024-09-01",
          "2024-09-02",
          "2024-09-03",
          "2024-09-04",
          "2024-09-05",
          "2024-09-06",
          "2024-09-07",
          "2024-09-08",
          "2024-09-09",
          "2024-09-10",
          "2024-09-11",
          "2024-09-12",
          "2024-09-13",
          "2024-09-14",
          "2024-09-15",
          "2024-09-16",
          "2024-09-17",
          "2024-09-18",
          "2024-09-19",
          "2024-09-20",
          "2024-09-21",
          "2024-09-22",
          "2024-09-23",
          "2024-09-24",
          "2024-09-25",
          "2024-09-26",
          "2024-09-27",
          "2024-09-28",
          "2024-09-29",
          "2024-09-30",
          "2024-10-01",
          "2024-10-02",
          "2024-10-03",
          "2024-10-04",
          "2024-10-05",
          "2024-10-06",
          "2024-10-07",
          "2024-10-08",
          "2024-10-09",
          "2024-10-10",
          "2024-10-11",
          "2024-10-12",
          "2024-10-13",
          "2024-10-14",
          "2024-10-15",
          "2024-10-16",
          "2024-10-17",
          "2024-10-18",
          "2024-10-19",
          "2024-10-20",
          "2024-10-21",
          "2024-10-22",
          "2024-10-23",
          "2024-10-24",
          "2024-10-25",
          "2024-10-26",
          "2024-10-27",
          "2024-10-28",
          "2024-10-29",
          "2024-10-30",
          "2024-10-31",
          "2024-11-01",
          "2024-11-02",
          "2024-11-03",
          "2024-11-04",
          "2024-11-05",
          "2024-11-06",
          "2024-11-07",
          "2024-11-08",
          "2024-11-09",
          "2024-11-10",
          "2024-11-11",
          "2024-11-12",
          "2024-11-13",
          "2024-11-14",
          "2024-11-15",
          "2024-11-16",
          "2024-11-17",
          "2024-11-18",
          "2024-11-19",
          "2024-11-20",
          "2024-11-21",
          "2024-11-22",
          "2024-11-23",
          "2024-11-24",
          "2024-11-25",
          "2024-11-27",
          "2024-11-28",
          "2024-11-29",
          "2024-11-30",
          "2024-12-01",
          "2024-12-02",
          "2024-12-03",
          "2024-12-04",
          "2024-12-05",
          "2024-12-06",
          "2024-12-07",
          "2024-12-08",
          "2024-12-09",
          "2024-12-10",
          "2024-12-11",
          "2024-12-12",
          "2024-12-13",
          "2024-12-14",
          "2024-12-15",
          "2024-12-16",
          "2024-12-17",
          "2024-12-18",
          "2024-12-19",
          "2024-12-20",
          "2024-12-21",
          "2024-12-22",
          "2024-12-23",
          "2024-12-24",
          "2024-12-25",
          "2024-12-26",
          "2024-12-27",
          "2024-12-28",
          "2024-12-29",
          "2024-12-30",
          "2024-12-31",
          "2025-01-01",
          "2025-01-02",
          "2025-01-03",
          "2025-01-04",
          "2025-01-05",
          "2025-01-06",
          "2025-01-07",
          "2025-01-08",
          "2025-01-09",
          "2025-01-10",
          "2025-01-11",
          "2025-01-12",
          "2025-01-13",
          "2025-01-14",
          "2025-01-15",
          "2025-01-16",
          "2025-01-17",
          "2025-01-18",
          "2025-01-19",
          "2025-01-20",
          "2025-01-21",
          "2025-01-22",
          "2025-01-23",
          "2025-01-24",
          "2025-01-25",
          "2025-01-26",
          "2025-01-27",
          "2025-01-28",
          "2025-01-29",
          "2025-01-30",
          "2025-01-31",
          "2025-02-01",
          "2025-02-02",
          "2025-02-03",
          "2025-02-04",
          "2025-02-05",
          "2025-02-06",
          "2025-02-07",
          "2025-02-08",
          "2025-02-09",
          "2025-02-10",
          "2025-02-11",
          "2025-02-12",
          "2025-02-13",
          "2025-02-14",
          "2025-02-15",
          "2025-02-16",
          "2025-02-17",
          "2025-02-18",
          "2025-02-19",
          "2025-02-20",
          "2025-02-21",
          "2025-02-22",
          "2025-02-23",
          "2025-02-24",
          "2025-02-25",
          "2025-02-26",
          "2025-02-27",
          "2025-02-28",
          "2025-03-01",
          "2025-03-02",
          "2025-03-03",
          "2025-03-04",
          "2025-03-05",
          "2025-03-06",
          "2025-03-07",
          "2025-03-08",
          "2025-03-09",
          "2025-03-10",
          "2025-03-11",
          "2025-03-12",
          "2025-03-13",
          "2025-03-14",
          "2025-03-15",
          "2025-03-16",
          "2025-03-17",
          "2025-03-18",
          "2025-03-19",
          "2025-03-20",
          "2025-03-21",
          "2025-03-22",
          "2025-03-23",
          "2025-03-24",
          "2025-03-25",
          "2025-03-26",
          "2025-03-27",
          "2025-03-28",
          "2025-03-29",
          "2025-03-30",
          "2025-03-31",
          "2025-04-01",
          "2025-04-02",
          "2025-04-03",
          "2025-04-04",
          "2025-04-05",
          "2025-04-06",
          "2025-04-07",
          "2025-04-08",
          "2025-04-09",
          "2025-04-14",
          "2025-04-15",
          "2025-04-16",
          "2025-04-17",
          "2025-04-18",
          "2025-04-19",
          "2025-04-20",
          "2025-04-21",
          "2025-04-22",
          "2025-04-23",
          "2025-04-24",
          "2025-04-25",
          "2025-04-26",
          "2025-04-27",
          "2025-04-28",
          "2025-04-29",
          "2025-04-30",
          "2025-05-01",
          "2025-05-02",
          "2025-05-03",
          "2025-05-04",
          "2025-05-05",
          "2025-05-06",
          "2025-05-07",
          "2025-05-08",
          "2025-05-09",
          "2025-05-10",
          "2025-05-11",
          "2025-05-12",
          "2025-05-13",
          "2025-05-14",
          "2025-05-15",
          "2025-05-16",
          "2025-05-17",
          "2025-05-18",
          "2025-05-19",
          "2025-05-20",
          "2025-05-21",
          "2025-05-22",
          "2025-05-23",
          "2025-05-24",
          "2025-05-25",
          "2025-05-26",
          "2025-05-27",
          "2025-05-28",
          "2025-05-29",
          "2025-05-30",
          "2025-05-31",
          "2025-06-01",
          "2025-06-02",
          "2025-06-03",
          "2025-06-04",
          "2025-06-05",
          "2025-06-06",
          "2025-06-07",
          "2025-06-08",
          "2025-06-09",
          "2025-06-10",
          "2025-06-11",
          "2025-06-12",
          "2025-06-13",
          "2025-06-14",
          "2025-06-15",
          "2025-06-16",
          "2025-06-17",
          "2025-06-18",
          "2025-06-19",
          "2025-06-20",
          "2025-06-21",
          "2025-06-22",
          "2025-06-23",
          "2025-06-24",
          "2025-06-25",
          "2025-06-26",
          "2025-06-27",
          "2025-06-28",
          "2025-06-29",
          "2025-06-30",
          "2025-07-01",
          "2025-07-02",
          "2025-07-03",
          "2025-07-04",
          "2025-07-05",
          "2025-07-06",
          "2025-07-07",
          "2025-07-08",
          "2025-07-09",
          "2025-07-10",
          "2025-07-11",
          "2025-07-12",
          "2025-07-13",
          "2025-07-14",
          "2025-07-15",
          "2025-07-16",
          "2025-07-17",
          "2025-07-18",
          "2025-07-19",
          "2025-07-20"
         ],
         "xaxis": "x",
         "y": {
          "bdata": "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",
          "dtype": "i4"
         },
         "yaxis": "y"
        }
       ],
       "layout": {
        "legend": {
         "title": {
          "text": "protocol"
         },
         "tracegroupgap": 0
        },
        "margin": {
         "t": 60
        },
        "template": {
         "data": {
          "bar": [
           {
            "error_x": {
             "color": "#2a3f5f"
            },
            "error_y": {
             "color": "#2a3f5f"
            },
            "marker": {
             "line": {
              "color": "#E5ECF6",
              "width": 0.5
             },
             "pattern": {
              "fillmode": "overlay",
              "size": 10,
              "solidity": 0.2
             }
            },
            "type": "bar"
           }
          ],
          "barpolar": [
           {
            "marker": {
             "line": {
              "color": "#E5ECF6",
              "width": 0.5
             },
             "pattern": {
              "fillmode": "overlay",
              "size": 10,
              "solidity": 0.2
             }
            },
            "type": "barpolar"
           }
          ],
          "carpet": [
           {
            "aaxis": {
             "endlinecolor": "#2a3f5f",
             "gridcolor": "white",
             "linecolor": "white",
             "minorgridcolor": "white",
             "startlinecolor": "#2a3f5f"
            },
            "baxis": {
             "endlinecolor": "#2a3f5f",
             "gridcolor": "white",
             "linecolor": "white",
             "minorgridcolor": "white",
             "startlinecolor": "#2a3f5f"
            },
            "type": "carpet"
           }
          ],
          "choropleth": [
           {
            "colorbar": {
             "outlinewidth": 0,
             "ticks": ""
            },
            "type": "choropleth"
           }
          ],
          "contour": [
           {
            "colorbar": {
             "outlinewidth": 0,
             "ticks": ""
            },
            "colorscale": [
             [
              0,
              "#0d0887"
             ],
             [
              0.1111111111111111,
              "#46039f"
             ],
             [
              0.2222222222222222,
              "#7201a8"
             ],
             [
              0.3333333333333333,
              "#9c179e"
             ],
             [
              0.4444444444444444,
              "#bd3786"
             ],
             [
              0.5555555555555556,
              "#d8576b"
             ],
             [
              0.6666666666666666,
              "#ed7953"
             ],
             [
              0.7777777777777778,
              "#fb9f3a"
             ],
             [
              0.8888888888888888,
              "#fdca26"
             ],
             [
              1,
              "#f0f921"
             ]
            ],
            "type": "contour"
           }
          ],
          "contourcarpet": [
           {
            "colorbar": {
             "outlinewidth": 0,
             "ticks": ""
            },
            "type": "contourcarpet"
           }
          ],
          "heatmap": [
           {
            "colorbar": {
             "outlinewidth": 0,
             "ticks": ""
            },
            "colorscale": [
             [
              0,
              "#0d0887"
             ],
             [
              0.1111111111111111,
              "#46039f"
             ],
             [
              0.2222222222222222,
              "#7201a8"
             ],
             [
              0.3333333333333333,
              "#9c179e"
             ],
             [
              0.4444444444444444,
              "#bd3786"
             ],
             [
              0.5555555555555556,
              "#d8576b"
             ],
             [
              0.6666666666666666,
              "#ed7953"
             ],
             [
              0.7777777777777778,
              "#fb9f3a"
             ],
             [
              0.8888888888888888,
              "#fdca26"
             ],
             [
              1,
              "#f0f921"
             ]
            ],
            "type": "heatmap"
           }
          ],
          "histogram": [
           {
            "marker": {
             "pattern": {
              "fillmode": "overlay",
              "size": 10,
              "solidity": 0.2
             }
            },
            "type": "histogram"
           }
          ],
          "histogram2d": [
           {
            "colorbar": {
             "outlinewidth": 0,
             "ticks": ""
            },
            "colorscale": [
             [
              0,
              "#0d0887"
             ],
             [
              0.1111111111111111,
              "#46039f"
             ],
             [
              0.2222222222222222,
              "#7201a8"
             ],
             [
              0.3333333333333333,
              "#9c179e"
             ],
             [
              0.4444444444444444,
              "#bd3786"
             ],
             [
              0.5555555555555556,
              "#d8576b"
             ],
             [
              0.6666666666666666,
              "#ed7953"
             ],
             [
              0.7777777777777778,
              "#fb9f3a"
             ],
             [
              0.8888888888888888,
              "#fdca26"
             ],
             [
              1,
              "#f0f921"
             ]
            ],
            "type": "histogram2d"
           }
          ],
          "histogram2dcontour": [
           {
            "colorbar": {
             "outlinewidth": 0,
             "ticks": ""
            },
            "colorscale": [
             [
              0,
              "#0d0887"
             ],
             [
              0.1111111111111111,
              "#46039f"
             ],
             [
              0.2222222222222222,
              "#7201a8"
             ],
             [
              0.3333333333333333,
              "#9c179e"
             ],
             [
              0.4444444444444444,
              "#bd3786"
             ],
             [
              0.5555555555555556,
              "#d8576b"
             ],
             [
              0.6666666666666666,
              "#ed7953"
             ],
             [
              0.7777777777777778,
              "#fb9f3a"
             ],
             [
              0.8888888888888888,
              "#fdca26"
             ],
             [
              1,
              "#f0f921"
             ]
            ],
            "type": "histogram2dcontour"
           }
          ],
          "mesh3d": [
           {
            "colorbar": {
             "outlinewidth": 0,
             "ticks": ""
            },
            "type": "mesh3d"
           }
          ],
          "parcoords": [
           {
            "line": {
             "colorbar": {
              "outlinewidth": 0,
              "ticks": ""
             }
            },
            "type": "parcoords"
           }
          ],
          "pie": [
           {
            "automargin": true,
            "type": "pie"
           }
          ],
          "scatter": [
           {
            "fillpattern": {
             "fillmode": "overlay",
             "size": 10,
             "solidity": 0.2
            },
            "type": "scatter"
           }
          ],
          "scatter3d": [
           {
            "line": {
             "colorbar": {
              "outlinewidth": 0,
              "ticks": ""
             }
            },
            "marker": {
             "colorbar": {
              "outlinewidth": 0,
              "ticks": ""
             }
            },
            "type": "scatter3d"
           }
          ],
          "scattercarpet": [
           {
            "marker": {
             "colorbar": {
              "outlinewidth": 0,
              "ticks": ""
             }
            },
            "type": "scattercarpet"
           }
          ],
          "scattergeo": [
           {
            "marker": {
             "colorbar": {
              "outlinewidth": 0,
              "ticks": ""
             }
            },
            "type": "scattergeo"
           }
          ],
          "scattergl": [
           {
            "marker": {
             "colorbar": {
              "outlinewidth": 0,
              "ticks": ""
             }
            },
            "type": "scattergl"
           }
          ],
          "scattermap": [
           {
            "marker": {
             "colorbar": {
              "outlinewidth": 0,
              "ticks": ""
             }
            },
            "type": "scattermap"
           }
          ],
          "scattermapbox": [
           {
            "marker": {
             "colorbar": {
              "outlinewidth": 0,
              "ticks": ""
             }
            },
            "type": "scattermapbox"
           }
          ],
          "scatterpolar": [
           {
            "marker": {
             "colorbar": {
              "outlinewidth": 0,
              "ticks": ""
             }
            },
            "type": "scatterpolar"
           }
          ],
          "scatterpolargl": [
           {
            "marker": {
             "colorbar": {
              "outlinewidth": 0,
              "ticks": ""
             }
            },
            "type": "scatterpolargl"
           }
          ],
          "scatterternary": [
           {
            "marker": {
             "colorbar": {
              "outlinewidth": 0,
              "ticks": ""
             }
            },
            "type": "scatterternary"
           }
          ],
          "surface": [
           {
            "colorbar": {
             "outlinewidth": 0,
             "ticks": ""
            },
            "colorscale": [
             [
              0,
              "#0d0887"
             ],
             [
              0.1111111111111111,
              "#46039f"
             ],
             [
              0.2222222222222222,
              "#7201a8"
             ],
             [
              0.3333333333333333,
              "#9c179e"
             ],
             [
              0.4444444444444444,
              "#bd3786"
             ],
             [
              0.5555555555555556,
              "#d8576b"
             ],
             [
              0.6666666666666666,
              "#ed7953"
             ],
             [
              0.7777777777777778,
              "#fb9f3a"
             ],
             [
              0.8888888888888888,
              "#fdca26"
             ],
             [
              1,
              "#f0f921"
             ]
            ],
            "type": "surface"
           }
          ],
          "table": [
           {
            "cells": {
             "fill": {
              "color": "#EBF0F8"
             },
             "line": {
              "color": "white"
             }
            },
            "header": {
             "fill": {
              "color": "#C8D4E3"
             },
             "line": {
              "color": "white"
             }
            },
            "type": "table"
           }
          ]
         },
         "layout": {
          "annotationdefaults": {
           "arrowcolor": "#2a3f5f",
           "arrowhead": 0,
           "arrowwidth": 1
          },
          "autotypenumbers": "strict",
          "coloraxis": {
           "colorbar": {
            "outlinewidth": 0,
            "ticks": ""
           }
          },
          "colorscale": {
           "diverging": [
            [
             0,
             "#8e0152"
            ],
            [
             0.1,
             "#c51b7d"
            ],
            [
             0.2,
             "#de77ae"
            ],
            [
             0.3,
             "#f1b6da"
            ],
            [
             0.4,
             "#fde0ef"
            ],
            [
             0.5,
             "#f7f7f7"
            ],
            [
             0.6,
             "#e6f5d0"
            ],
            [
             0.7,
             "#b8e186"
            ],
            [
             0.8,
             "#7fbc41"
            ],
            [
             0.9,
             "#4d9221"
            ],
            [
             1,
             "#276419"
            ]
           ],
           "sequential": [
            [
             0,
             "#0d0887"
            ],
            [
             0.1111111111111111,
             "#46039f"
            ],
            [
             0.2222222222222222,
             "#7201a8"
            ],
            [
             0.3333333333333333,
             "#9c179e"
            ],
            [
             0.4444444444444444,
             "#bd3786"
            ],
            [
             0.5555555555555556,
             "#d8576b"
            ],
            [
             0.6666666666666666,
             "#ed7953"
            ],
            [
             0.7777777777777778,
             "#fb9f3a"
            ],
            [
             0.8888888888888888,
             "#fdca26"
            ],
            [
             1,
             "#f0f921"
            ]
           ],
           "sequentialminus": [
            [
             0,
             "#0d0887"
            ],
            [
             0.1111111111111111,
             "#46039f"
            ],
            [
             0.2222222222222222,
             "#7201a8"
            ],
            [
             0.3333333333333333,
             "#9c179e"
            ],
            [
             0.4444444444444444,
             "#bd3786"
            ],
            [
             0.5555555555555556,
             "#d8576b"
            ],
            [
             0.6666666666666666,
             "#ed7953"
            ],
            [
             0.7777777777777778,
             "#fb9f3a"
            ],
            [
             0.8888888888888888,
             "#fdca26"
            ],
            [
             1,
             "#f0f921"
            ]
           ]
          },
          "colorway": [
           "#636efa",
           "#EF553B",
           "#00cc96",
           "#ab63fa",
           "#FFA15A",
           "#19d3f3",
           "#FF6692",
           "#B6E880",
           "#FF97FF",
           "#FECB52"
          ],
          "font": {
           "color": "#2a3f5f"
          },
          "geo": {
           "bgcolor": "white",
           "lakecolor": "white",
           "landcolor": "#E5ECF6",
           "showlakes": true,
           "showland": true,
           "subunitcolor": "white"
          },
          "hoverlabel": {
           "align": "left"
          },
          "hovermode": "closest",
          "mapbox": {
           "style": "light"
          },
          "paper_bgcolor": "white",
          "plot_bgcolor": "#E5ECF6",
          "polar": {
           "angularaxis": {
            "gridcolor": "white",
            "linecolor": "white",
            "ticks": ""
           },
           "bgcolor": "#E5ECF6",
           "radialaxis": {
            "gridcolor": "white",
            "linecolor": "white",
            "ticks": ""
           }
          },
          "scene": {
           "xaxis": {
            "backgroundcolor": "#E5ECF6",
            "gridcolor": "white",
            "gridwidth": 2,
            "linecolor": "white",
            "showbackground": true,
            "ticks": "",
            "zerolinecolor": "white"
           },
           "yaxis": {
            "backgroundcolor": "#E5ECF6",
            "gridcolor": "white",
            "gridwidth": 2,
            "linecolor": "white",
            "showbackground": true,
            "ticks": "",
            "zerolinecolor": "white"
           },
           "zaxis": {
            "backgroundcolor": "#E5ECF6",
            "gridcolor": "white",
            "gridwidth": 2,
            "linecolor": "white",
            "showbackground": true,
            "ticks": "",
            "zerolinecolor": "white"
           }
          },
          "shapedefaults": {
           "line": {
            "color": "#2a3f5f"
           }
          },
          "ternary": {
           "aaxis": {
            "gridcolor": "white",
            "linecolor": "white",
            "ticks": ""
           },
           "baxis": {
            "gridcolor": "white",
            "linecolor": "white",
            "ticks": ""
           },
           "bgcolor": "#E5ECF6",
           "caxis": {
            "gridcolor": "white",
            "linecolor": "white",
            "ticks": ""
           }
          },
          "title": {
           "x": 0.05
          },
          "xaxis": {
           "automargin": true,
           "gridcolor": "white",
           "linecolor": "white",
           "ticks": "",
           "title": {
            "standoff": 15
           },
           "zerolinecolor": "white",
           "zerolinewidth": 2
          },
          "yaxis": {
           "automargin": true,
           "gridcolor": "white",
           "linecolor": "white",
           "ticks": "",
           "title": {
            "standoff": 15
           },
           "zerolinecolor": "white",
           "zerolinewidth": 2
          }
         }
        },
        "xaxis": {
         "anchor": "y",
         "domain": [
          0,
          1
         ],
         "title": {
          "text": "date"
         }
        },
        "yaxis": {
         "anchor": "x",
         "domain": [
          0,
          1
         ],
         "title": {
          "text": "revenue_cumulative"
         }
        }
       }
      }
     },
     "metadata": {},
     "output_type": "display_data"
    }
   ],
   "source": [
    "px.line(df, x=\"date\", y=\"revenue_cumulative\", color=\"protocol\")"
   ]
  },
  {
   "cell_type": "markdown",
   "id": "0f1e76e5",
   "metadata": {},
   "source": [
    "### 4. ENA\n",
    "1. ENA total supply"
   ]
  },
  {
   "cell_type": "code",
   "execution_count": null,
   "id": "f88d9c99",
   "metadata": {},
   "outputs": [
    {
     "data": {
      "text/html": [
       "<div>\n",
       "<style scoped>\n",
       "    .dataframe tbody tr th:only-of-type {\n",
       "        vertical-align: middle;\n",
       "    }\n",
       "\n",
       "    .dataframe tbody tr th {\n",
       "        vertical-align: top;\n",
       "    }\n",
       "\n",
       "    .dataframe thead th {\n",
       "        text-align: right;\n",
       "    }\n",
       "</style>\n",
       "<table border=\"1\" class=\"dataframe\">\n",
       "  <thead>\n",
       "    <tr style=\"text-align: right;\">\n",
       "      <th></th>\n",
       "      <th>timestamp</th>\n",
       "      <th>price</th>\n",
       "      <th>network</th>\n",
       "      <th>contract_address</th>\n",
       "      <th>symbol</th>\n",
       "      <th>decimals</th>\n",
       "      <th>confidence</th>\n",
       "      <th>_dlt_load_id</th>\n",
       "      <th>_dlt_id</th>\n",
       "      <th>date</th>\n",
       "    </tr>\n",
       "  </thead>\n",
       "  <tbody>\n",
       "    <tr>\n",
       "      <th>0</th>\n",
       "      <td>1712109083</td>\n",
       "      <td>0.857356</td>\n",
       "      <td>ethereum</td>\n",
       "      <td>0x57e114B691Db790C35207b2e685D4A43181e6061</td>\n",
       "      <td>ENA</td>\n",
       "      <td>18</td>\n",
       "      <td>0.99</td>\n",
       "      <td>1753149022.9225566</td>\n",
       "      <td>RgtV7Z8XdHhmbg</td>\n",
       "      <td>2024-04-03</td>\n",
       "    </tr>\n",
       "    <tr>\n",
       "      <th>1</th>\n",
       "      <td>1712195509</td>\n",
       "      <td>1.099000</td>\n",
       "      <td>ethereum</td>\n",
       "      <td>0x57e114B691Db790C35207b2e685D4A43181e6061</td>\n",
       "      <td>ENA</td>\n",
       "      <td>18</td>\n",
       "      <td>0.99</td>\n",
       "      <td>1753149022.9225566</td>\n",
       "      <td>bz2rU+RTbH3kAw</td>\n",
       "      <td>2024-04-04</td>\n",
       "    </tr>\n",
       "    <tr>\n",
       "      <th>2</th>\n",
       "      <td>1712281881</td>\n",
       "      <td>1.022000</td>\n",
       "      <td>ethereum</td>\n",
       "      <td>0x57e114B691Db790C35207b2e685D4A43181e6061</td>\n",
       "      <td>ENA</td>\n",
       "      <td>18</td>\n",
       "      <td>0.99</td>\n",
       "      <td>1753149022.9225566</td>\n",
       "      <td>/5jjw5MM6LvH0w</td>\n",
       "      <td>2024-04-05</td>\n",
       "    </tr>\n",
       "    <tr>\n",
       "      <th>3</th>\n",
       "      <td>1712368185</td>\n",
       "      <td>0.978615</td>\n",
       "      <td>ethereum</td>\n",
       "      <td>0x57e114B691Db790C35207b2e685D4A43181e6061</td>\n",
       "      <td>ENA</td>\n",
       "      <td>18</td>\n",
       "      <td>0.99</td>\n",
       "      <td>1753149022.9225566</td>\n",
       "      <td>84DpK4Hcnpa3LQ</td>\n",
       "      <td>2024-04-06</td>\n",
       "    </tr>\n",
       "    <tr>\n",
       "      <th>4</th>\n",
       "      <td>1712454628</td>\n",
       "      <td>1.081625</td>\n",
       "      <td>ethereum</td>\n",
       "      <td>0x57e114B691Db790C35207b2e685D4A43181e6061</td>\n",
       "      <td>ENA</td>\n",
       "      <td>18</td>\n",
       "      <td>0.99</td>\n",
       "      <td>1753149022.9225566</td>\n",
       "      <td>OXAfJgBcnNDWew</td>\n",
       "      <td>2024-04-07</td>\n",
       "    </tr>\n",
       "    <tr>\n",
       "      <th>...</th>\n",
       "      <td>...</td>\n",
       "      <td>...</td>\n",
       "      <td>...</td>\n",
       "      <td>...</td>\n",
       "      <td>...</td>\n",
       "      <td>...</td>\n",
       "      <td>...</td>\n",
       "      <td>...</td>\n",
       "      <td>...</td>\n",
       "      <td>...</td>\n",
       "    </tr>\n",
       "    <tr>\n",
       "      <th>471</th>\n",
       "      <td>1752803396</td>\n",
       "      <td>0.394288</td>\n",
       "      <td>ethereum</td>\n",
       "      <td>0x57e114B691Db790C35207b2e685D4A43181e6061</td>\n",
       "      <td>ENA</td>\n",
       "      <td>18</td>\n",
       "      <td>0.99</td>\n",
       "      <td>1753149022.9225566</td>\n",
       "      <td>5lXlOSd0MTLa5A</td>\n",
       "      <td>2025-07-18</td>\n",
       "    </tr>\n",
       "    <tr>\n",
       "      <th>472</th>\n",
       "      <td>1752889803</td>\n",
       "      <td>0.390960</td>\n",
       "      <td>ethereum</td>\n",
       "      <td>0x57e114B691Db790C35207b2e685D4A43181e6061</td>\n",
       "      <td>ENA</td>\n",
       "      <td>18</td>\n",
       "      <td>0.99</td>\n",
       "      <td>1753149022.9225566</td>\n",
       "      <td>reUCJjPFIWUtSA</td>\n",
       "      <td>2025-07-19</td>\n",
       "    </tr>\n",
       "    <tr>\n",
       "      <th>473</th>\n",
       "      <td>1752976172</td>\n",
       "      <td>0.445386</td>\n",
       "      <td>ethereum</td>\n",
       "      <td>0x57e114B691Db790C35207b2e685D4A43181e6061</td>\n",
       "      <td>ENA</td>\n",
       "      <td>18</td>\n",
       "      <td>0.99</td>\n",
       "      <td>1753149022.9225566</td>\n",
       "      <td>mk7IYVSoUw+x7g</td>\n",
       "      <td>2025-07-20</td>\n",
       "    </tr>\n",
       "    <tr>\n",
       "      <th>474</th>\n",
       "      <td>1753062596</td>\n",
       "      <td>0.494682</td>\n",
       "      <td>ethereum</td>\n",
       "      <td>0x57e114B691Db790C35207b2e685D4A43181e6061</td>\n",
       "      <td>ENA</td>\n",
       "      <td>18</td>\n",
       "      <td>0.99</td>\n",
       "      <td>1753149022.9225566</td>\n",
       "      <td>G+xOk80U6MyPDQ</td>\n",
       "      <td>2025-07-21</td>\n",
       "    </tr>\n",
       "    <tr>\n",
       "      <th>475</th>\n",
       "      <td>1753148944</td>\n",
       "      <td>0.511373</td>\n",
       "      <td>ethereum</td>\n",
       "      <td>0x57e114B691Db790C35207b2e685D4A43181e6061</td>\n",
       "      <td>ENA</td>\n",
       "      <td>18</td>\n",
       "      <td>0.99</td>\n",
       "      <td>1753149022.9225566</td>\n",
       "      <td>JBd31h33kte2jQ</td>\n",
       "      <td>2025-07-22</td>\n",
       "    </tr>\n",
       "  </tbody>\n",
       "</table>\n",
       "<p>476 rows × 10 columns</p>\n",
       "</div>"
      ],
      "text/plain": [
       "      timestamp     price   network  \\\n",
       "0    1712109083  0.857356  ethereum   \n",
       "1    1712195509  1.099000  ethereum   \n",
       "2    1712281881  1.022000  ethereum   \n",
       "3    1712368185  0.978615  ethereum   \n",
       "4    1712454628  1.081625  ethereum   \n",
       "..          ...       ...       ...   \n",
       "471  1752803396  0.394288  ethereum   \n",
       "472  1752889803  0.390960  ethereum   \n",
       "473  1752976172  0.445386  ethereum   \n",
       "474  1753062596  0.494682  ethereum   \n",
       "475  1753148944  0.511373  ethereum   \n",
       "\n",
       "                               contract_address symbol  decimals  confidence  \\\n",
       "0    0x57e114B691Db790C35207b2e685D4A43181e6061    ENA        18        0.99   \n",
       "1    0x57e114B691Db790C35207b2e685D4A43181e6061    ENA        18        0.99   \n",
       "2    0x57e114B691Db790C35207b2e685D4A43181e6061    ENA        18        0.99   \n",
       "3    0x57e114B691Db790C35207b2e685D4A43181e6061    ENA        18        0.99   \n",
       "4    0x57e114B691Db790C35207b2e685D4A43181e6061    ENA        18        0.99   \n",
       "..                                          ...    ...       ...         ...   \n",
       "471  0x57e114B691Db790C35207b2e685D4A43181e6061    ENA        18        0.99   \n",
       "472  0x57e114B691Db790C35207b2e685D4A43181e6061    ENA        18        0.99   \n",
       "473  0x57e114B691Db790C35207b2e685D4A43181e6061    ENA        18        0.99   \n",
       "474  0x57e114B691Db790C35207b2e685D4A43181e6061    ENA        18        0.99   \n",
       "475  0x57e114B691Db790C35207b2e685D4A43181e6061    ENA        18        0.99   \n",
       "\n",
       "           _dlt_load_id         _dlt_id        date  \n",
       "0    1753149022.9225566  RgtV7Z8XdHhmbg  2024-04-03  \n",
       "1    1753149022.9225566  bz2rU+RTbH3kAw  2024-04-04  \n",
       "2    1753149022.9225566  /5jjw5MM6LvH0w  2024-04-05  \n",
       "3    1753149022.9225566  84DpK4Hcnpa3LQ  2024-04-06  \n",
       "4    1753149022.9225566  OXAfJgBcnNDWew  2024-04-07  \n",
       "..                  ...             ...         ...  \n",
       "471  1753149022.9225566  5lXlOSd0MTLa5A  2025-07-18  \n",
       "472  1753149022.9225566  reUCJjPFIWUtSA  2025-07-19  \n",
       "473  1753149022.9225566  mk7IYVSoUw+x7g  2025-07-20  \n",
       "474  1753149022.9225566  G+xOk80U6MyPDQ  2025-07-21  \n",
       "475  1753149022.9225566  JBd31h33kte2jQ  2025-07-22  \n",
       "\n",
       "[476 rows x 10 columns]"
      ]
     },
     "execution_count": 5,
     "metadata": {},
     "output_type": "execute_result"
    }
   ],
   "source": [
    "query = \"\"\"\n",
    "SELECT * FROM ethena_raw.token_price\n",
    "\"\"\"\n",
    "df = pd.read_sql(query, engine)\n",
    "df['date'] = pd.to_datetime(df['timestamp'], unit='s').dt.date\n",
    "df"
   ]
  },
  {
   "cell_type": "code",
   "execution_count": 8,
   "id": "bccc9cac",
   "metadata": {},
   "outputs": [
    {
     "name": "stdout",
     "output_type": "stream",
     "text": [
      "ENA Total Supply: 15000000000.0\n",
      "Current Price: 0.511373\n",
      "Full Market Cap: 7.67B\n"
     ]
    }
   ],
   "source": [
    "ena_total_supply = 15e9\n",
    "current_price = df[df['date'] == df['date'].max()]['price'].values[0].item()  # Ensure it's a scalar value\n",
    "current_price\n",
    "\n",
    "full_market_cap = ena_total_supply * current_price\n",
    "\n",
    "print(f\"ENA Total Supply: {ena_total_supply}\")\n",
    "print(f\"Current Price: {current_price}\")\n",
    "print(f\"Full Market Cap: {full_market_cap/1e9:.2f}B\")"
   ]
  },
  {
   "cell_type": "markdown",
   "id": "457f1d58",
   "metadata": {},
   "source": [
    "## USDe"
   ]
  },
  {
   "cell_type": "markdown",
   "id": "4171cb2f",
   "metadata": {},
   "source": [
    "### 1. Primary market"
   ]
  },
  {
   "cell_type": "code",
   "execution_count": null,
   "id": "b29f7e27",
   "metadata": {},
   "outputs": [],
   "source": []
  }
 ],
 "metadata": {
  "kernelspec": {
   "display_name": "stables",
   "language": "python",
   "name": "python3"
  },
  "language_info": {
   "codemirror_mode": {
    "name": "ipython",
    "version": 3
   },
   "file_extension": ".py",
   "mimetype": "text/x-python",
   "name": "python",
   "nbconvert_exporter": "python",
   "pygments_lexer": "ipython3",
   "version": "3.11.11"
  }
 },
 "nbformat": 4,
 "nbformat_minor": 5
}
